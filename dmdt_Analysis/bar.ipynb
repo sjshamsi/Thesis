{
 "cells": [
  {
   "cell_type": "code",
   "execution_count": null,
   "metadata": {
    "vscode": {
     "languageId": "plaintext"
    }
   },
   "outputs": [],
   "source": [
    "from os import chdir\n",
    "chdir('/home/shoaib/Thesis/dmdt_Analysis/')\n",
    "from dmdt_functions import get_differenciation, get_2Dhistogram"
   ]
  },
  {
   "cell_type": "code",
   "execution_count": null,
   "metadata": {
    "vscode": {
     "languageId": "plaintext"
    }
   },
   "outputs": [],
   "source": [
    "from pandas import read_parquet, DataFrame\n",
    "from numpy import linspace"
   ]
  },
  {
   "cell_type": "code",
   "execution_count": null,
   "metadata": {
    "vscode": {
     "languageId": "plaintext"
    }
   },
   "outputs": [],
   "source": [
    "filtered_lightcurves = \"/home/shoaib/PSChallenge/filtered_lightcurves.parquet\"\n",
    "\n",
    "xbins, ybins = 51, 51\n",
    "# These files do'nt exist yet, they are save paths for later in the notebook\n",
    "dmdt_by_oid_50x50 = '/home/shoaib/Thesis/dmdt_Analysis/Histograms/dmdt_by_OID_50x50.pkl'"
   ]
  },
  {
   "cell_type": "code",
   "execution_count": null,
   "metadata": {
    "vscode": {
     "languageId": "plaintext"
    }
   },
   "outputs": [],
   "source": [
    "### By experimentation we know that these are good bins\n",
    "log_dt_bins = linspace(-4, 3.5, xbins)\n",
    "dm_bins = linspace(-0.85, 0.8, ybins)\n",
    "\n",
    "all_lightcurves = read_parquet(filtered_lightcurves)"
   ]
  },
  {
   "cell_type": "code",
   "execution_count": null,
   "metadata": {
    "vscode": {
     "languageId": "plaintext"
    }
   },
   "outputs": [],
   "source": [
    "grouped = all_lightcurves.groupby('oid_alerce')\n",
    "num_total_oids = len(grouped)\n",
    "count = 0\n",
    "histogram_dict_list = []\n",
    "\n",
    "for oid, df in grouped:\n",
    "    df = df.sort_values(by='mjd')\n",
    "    \n",
    "    count += 1\n",
    "    print(f'{count}\\t/ {num_total_oids} OIDs done.')\n",
    "    \n",
    "    times, mags = df['mjd'].to_numpy(), df['mag'].to_numpy()\n",
    "    dtimes, dmags = get_differenciation(times=times, magnitudes=mags)\n",
    "    hist, _junk, _junk = get_2Dhistogram(dtimes=dtimes, dmagnitudes=dmags, dt_bins=log_dt_bins, dm_bins=dm_bins, normalise=False, scale_factor=False)\n",
    "\n",
    "    if hist.sum() == 0:\n",
    "        continue\n",
    "    \n",
    "    hist_normalised = hist / hist.sum()\n",
    "    name = df['name'].iloc[0]\n",
    "    object_type = df['type'].iloc[0]\n",
    "    band = df['band'].iloc[0]\n",
    "    n_good_det = len(df)\n",
    "    \n",
    "    histogram_dict = {'oid_alerce': oid, 'name': name, 'type': object_type, 'band': band, 'n_good_det': n_good_det,\n",
    "                      'histogram': hist, 'histogram_normalised': hist_normalised}\n",
    "    histogram_dict_list.append(histogram_dict)"
   ]
  },
  {
   "cell_type": "code",
   "execution_count": null,
   "metadata": {
    "vscode": {
     "languageId": "plaintext"
    }
   },
   "outputs": [],
   "source": [
    "hist_df = DataFrame(histogram_dict_list)\n",
    "hist_df = hist_df.sort_values(by=['type', 'name', 'band'], ignore_index=True)\n",
    "hist_df.reset_index(drop=True).to_pickle(dmdt_by_oid_50x50)"
   ]
  },
  {
   "cell_type": "code",
   "execution_count": null,
   "metadata": {
    "vscode": {
     "languageId": "plaintext"
    }
   },
   "outputs": [],
   "source": [
    "hist_df"
   ]
  }
 ],
 "metadata": {
  "language_info": {
   "name": "python"
  }
 },
 "nbformat": 4,
 "nbformat_minor": 2
}
