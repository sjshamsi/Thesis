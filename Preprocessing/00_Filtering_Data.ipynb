{
 "cells": [
  {
   "cell_type": "markdown",
   "metadata": {},
   "source": [
    "# Filtering and repackaging Paula's Data"
   ]
  },
  {
   "cell_type": "code",
   "execution_count": 1,
   "metadata": {},
   "outputs": [],
   "source": [
    "from dask.dataframe import read_parquet as dd_read_parquet\n",
    "from pandas import read_csv, concat\n",
    "from numpy import unique"
   ]
  },
  {
   "cell_type": "code",
   "execution_count": 2,
   "metadata": {},
   "outputs": [],
   "source": [
    "data_dir = '/home/shoaib/PSChallenge/'\n",
    "paula_original_features_gband_csv = \"/home/shoaib/PSChallenge/Original_Data/features_QSO_AGN_Blazar_ZTF_DR6_lcs_gband_all.csv\"\n",
    "paula_original_features_rband_csv = \"/home/shoaib/PSChallenge/Original_Data/features_QSO_AGN_Blazar_ZTF_DR6_lcs_rband_all.csv\"\n",
    "\n",
    "paula_original_lightcurves_gband = \"/home/shoaib/PSChallenge/Original_Data/QSO_AGN_Blazar_ZTF_DR6_lcs_gband.parquet\"\n",
    "paula_original_lightcurves_rband = \"/home/shoaib/PSChallenge/Original_Data/QSO_AGN_Blazar_ZTF_DR6_lcs_rband.parquet\"\n",
    "\n",
    "panstarrs_pointsources = \"/home/shoaib/PSChallenge/Original_Data/QSO_AGN_Blazar_sample_milliquas_roma_ps_score_pointsources.csv\"\n",
    "\n",
    "# These files do not exist, they are save paths for later on in the script\n",
    "original_features_by_oid = \"/home/shoaib/PSChallenge/original_features_by_oid.csv\"\n",
    "filtered_lightcurves_gband = \"/home/shoaib/PSChallenge/filtered_lightcurves_gband.parquet\"\n",
    "filtered_lightcurves_rband = \"/home/shoaib/PSChallenge/filtered_lightcurves_rband.parquet\"\n",
    "filtered_lightcurves = \"/home/shoaib/PSChallenge/filtered_lightcurves.parquet\""
   ]
  },
  {
   "cell_type": "code",
   "execution_count": 3,
   "metadata": {},
   "outputs": [],
   "source": [
    "features_g = read_csv(paula_original_features_gband_csv, index_col=0)\n",
    "features_r = read_csv(paula_original_features_rband_csv, index_col=0)"
   ]
  },
  {
   "cell_type": "code",
   "execution_count": 4,
   "metadata": {},
   "outputs": [],
   "source": [
    "features_junk_columns = ['meanra', 'meandec', 'timespan_good', 'T2020_sigma2']\n",
    "\n",
    "features_g = features_g.drop(features_junk_columns, axis=1)\n",
    "features_r = features_r.drop(features_junk_columns, axis=1)"
   ]
  },
  {
   "cell_type": "code",
   "execution_count": 5,
   "metadata": {},
   "outputs": [
    {
     "name": "stdout",
     "output_type": "stream",
     "text": [
      "There are 53,300 OIDs in g and 60,596 OIDs in r\n"
     ]
    }
   ],
   "source": [
    "num_unfiltered_features_g = len(features_g)\n",
    "num_unfiltered_features_r = len(features_r)\n",
    "\n",
    "print(f'There are {num_unfiltered_features_g:,} OIDs in g and {num_unfiltered_features_r:,} OIDs in r')"
   ]
  },
  {
   "cell_type": "code",
   "execution_count": 6,
   "metadata": {},
   "outputs": [],
   "source": [
    "ztf_g = dd_read_parquet(paula_original_lightcurves_gband).set_index('ID')\n",
    "ztf_r = dd_read_parquet(paula_original_lightcurves_rband).set_index('ID')"
   ]
  },
  {
   "cell_type": "code",
   "execution_count": 7,
   "metadata": {},
   "outputs": [],
   "source": [
    "lc_relevant_columns = ['name', 'oid_alerce', 'mjd', 'mag', 'magerr', 'catflags', 'filtercode']\n",
    "ztf_g = ztf_g[lc_relevant_columns]\n",
    "ztf_r = ztf_r[lc_relevant_columns]\n",
    "\n",
    "ztf_g = ztf_g.rename(columns={'filtercode': 'band'})\n",
    "ztf_r = ztf_r.rename(columns={'filtercode': 'band'})"
   ]
  },
  {
   "cell_type": "code",
   "execution_count": 8,
   "metadata": {},
   "outputs": [
    {
     "name": "stdout",
     "output_type": "stream",
     "text": [
      "Number of individual observations filtered by catflags, magerr in g:\t\t26,531\n",
      "Number of individual observations filtered by catflags, magerr in r:\t\t34,207\n"
     ]
    }
   ],
   "source": [
    "len_ztf_g_prefilter = len(ztf_g)\n",
    "len_ztf_r_prefilter = len(ztf_r)\n",
    "\n",
    "ztf_g = ztf_g[(ztf_g['catflags'] == 0) & (ztf_g['magerr'] < 1)]\n",
    "ztf_r = ztf_r[(ztf_r['catflags'] == 0) & (ztf_r['magerr'] < 1)]\n",
    "\n",
    "len_ztf_g_postfilter = len(ztf_g)\n",
    "len_ztf_r_postfilter = len(ztf_r)\n",
    "\n",
    "print(f'Number of individual observations filtered by catflags, magerr in g:\\t\\t{len_ztf_g_prefilter - len_ztf_g_postfilter:,}')\n",
    "print(f'Number of individual observations filtered by catflags, magerr in r:\\t\\t{len_ztf_r_prefilter - len_ztf_r_postfilter:,}')"
   ]
  },
  {
   "cell_type": "code",
   "execution_count": 9,
   "metadata": {},
   "outputs": [],
   "source": [
    "ztf_g = ztf_g.drop('catflags', axis=1)\n",
    "ztf_r = ztf_r.drop('catflags', axis=1)"
   ]
  },
  {
   "cell_type": "code",
   "execution_count": 10,
   "metadata": {},
   "outputs": [],
   "source": [
    "ztf_g['band'] = 'g'\n",
    "ztf_r['band'] = 'r'\n",
    "\n",
    "# Converting these to pandas DFs now.\n",
    "ztf_g = ztf_g.compute()\n",
    "ztf_r = ztf_r.compute()"
   ]
  },
  {
   "cell_type": "code",
   "execution_count": 11,
   "metadata": {},
   "outputs": [
    {
     "name": "stdout",
     "output_type": "stream",
     "text": [
      "Number of OIDs filtered by catflags, magerr in g:\t\t49\n",
      "Number of OIDs filtered by catflags, magerr in r:\t\t55\n"
     ]
    }
   ],
   "source": [
    "ztf_g_oid_alerce = unique(ztf_g['oid_alerce'].to_numpy())\n",
    "ztf_r_oid_alerce = unique(ztf_r['oid_alerce'].to_numpy())\n",
    "\n",
    "catflags_magerr_mask_g = features_g['oid_alerce'].isin(ztf_g_oid_alerce)\n",
    "catflags_magerr_mask_r = features_r['oid_alerce'].isin(ztf_r_oid_alerce)\n",
    "\n",
    "features_g = features_g[catflags_magerr_mask_g]\n",
    "features_r = features_r[catflags_magerr_mask_r]\n",
    "\n",
    "num_catflags_magerr_g = len(features_g)\n",
    "num_catflags_magerr_r = len(features_r)\n",
    "\n",
    "print(f'Number of OIDs filtered by catflags, magerr in g:\\t\\t{num_unfiltered_features_g - num_catflags_magerr_g:,}')\n",
    "print(f'Number of OIDs filtered by catflags, magerr in r:\\t\\t{num_unfiltered_features_r - num_catflags_magerr_r:,}')"
   ]
  },
  {
   "cell_type": "code",
   "execution_count": 12,
   "metadata": {},
   "outputs": [],
   "source": [
    "panstarrs = read_csv(panstarrs_pointsources)\n",
    "\n",
    "panstarrs = panstarrs[['name', 'ps_score', 'type']] # We only need these three\n",
    "panstarrs = panstarrs[panstarrs['ps_score'] > 0.5] # Our point source filter\n",
    "panstarrs = panstarrs.drop(columns=['ps_score']) # Don't need this anymore"
   ]
  },
  {
   "cell_type": "code",
   "execution_count": 13,
   "metadata": {},
   "outputs": [
    {
     "name": "stdout",
     "output_type": "stream",
     "text": [
      "Duplicates in the PanSTARRS DF have the same types. All good!\n"
     ]
    }
   ],
   "source": [
    "panstarrs_duplicates = panstarrs.groupby(['name'])\n",
    "\n",
    "different_types_found = False\n",
    "\n",
    "for name, name_panstarrs_df in panstarrs_duplicates:\n",
    "    if name_panstarrs_df['name'].nunique() > 1:\n",
    "        different_types_found = True\n",
    "        print('Caution!', name, 'has different reported types in the PanSTARRS DF!')\n",
    "\n",
    "if not different_types_found:\n",
    "        print('Duplicates in the PanSTARRS DF have the same types. All good!')"
   ]
  },
  {
   "cell_type": "code",
   "execution_count": 14,
   "metadata": {},
   "outputs": [
    {
     "name": "stdout",
     "output_type": "stream",
     "text": [
      "Number of OIDs filtered by ps_score in g:\t0\n",
      "Number of OIDs filtered by ps_score in r:\t0\n"
     ]
    }
   ],
   "source": [
    "panstarrs = panstarrs.drop_duplicates(subset='name', keep='first')\n",
    "panstarrs_names = panstarrs['name'].to_numpy()\n",
    "\n",
    "ps_mask_g = features_g['name'].isin(panstarrs_names)\n",
    "ps_mask_r = features_r['name'].isin(panstarrs_names)\n",
    "\n",
    "features_g = features_g[ps_mask_g]\n",
    "features_r = features_r[ps_mask_r]\n",
    "\n",
    "num_ps_g = len(features_g)\n",
    "num_ps_r = len(features_r)\n",
    "\n",
    "print(f'Number of OIDs filtered by ps_score in g:\\t{num_catflags_magerr_g - num_ps_g:,}')\n",
    "print(f'Number of OIDs filtered by ps_score in r:\\t{num_catflags_magerr_r - num_ps_r:,}')"
   ]
  },
  {
   "cell_type": "code",
   "execution_count": 15,
   "metadata": {},
   "outputs": [],
   "source": [
    "features_g = features_g.merge(panstarrs, on='name', how='left')\n",
    "features_r = features_r.merge(panstarrs, on='name', how='left')\n",
    "\n",
    "ztf_g = ztf_g.merge(panstarrs, on='name', how='left')\n",
    "ztf_r = ztf_r.merge(panstarrs, on='name', how='left')\n",
    "\n",
    "# We can now delete these\n",
    "del panstarrs\n",
    "del panstarrs_duplicates"
   ]
  },
  {
   "cell_type": "code",
   "execution_count": 16,
   "metadata": {},
   "outputs": [
    {
     "name": "stdout",
     "output_type": "stream",
     "text": [
      "Features in g and r combined, filtered, and saved to /home/shoaib/PSChallenge/original_features_by_oid.csv\n"
     ]
    }
   ],
   "source": [
    "features_g['band'] = 'g'\n",
    "features_r['band'] = 'r'\n",
    "\n",
    "features_combined = concat([features_g, features_r], ignore_index=True)\n",
    "del features_g\n",
    "del features_r\n",
    "\n",
    "features_combined = features_combined.sort_values(by=['type', 'name', 'band'])\n",
    "\n",
    "features_combined.to_csv(original_features_by_oid, index=False)\n",
    "print(f'Features in g and r combined, filtered, and saved to {original_features_by_oid}')\n",
    "del features_combined"
   ]
  },
  {
   "cell_type": "code",
   "execution_count": 17,
   "metadata": {},
   "outputs": [
    {
     "name": "stdout",
     "output_type": "stream",
     "text": [
      "Filtered gband lightcurves saved to /home/shoaib/PSChallenge/filtered_lightcurves_gband.parquet\n",
      "Filtered rband lightcurves saved to /home/shoaib/PSChallenge/filtered_lightcurves_rband.parquet\n"
     ]
    }
   ],
   "source": [
    "ztf_g = ztf_g.sort_values(by=['type', 'name', 'mjd'])\n",
    "ztf_r = ztf_r.sort_values(by=['type', 'name', 'mjd'])\n",
    "\n",
    "ztf_g.to_parquet(filtered_lightcurves_gband, index=False)\n",
    "ztf_r.to_parquet(filtered_lightcurves_rband, index=False)\n",
    "\n",
    "print(f'Filtered gband lightcurves saved to {filtered_lightcurves_gband}')\n",
    "print(f'Filtered rband lightcurves saved to {filtered_lightcurves_rband}')"
   ]
  },
  {
   "cell_type": "code",
   "execution_count": 18,
   "metadata": {},
   "outputs": [
    {
     "name": "stdout",
     "output_type": "stream",
     "text": [
      "Combined, filtered lightcurves saved to /home/shoaib/PSChallenge/filtered_lightcurves.parquet\n"
     ]
    }
   ],
   "source": [
    "all_lcs = concat([ztf_g, ztf_r], ignore_index=True)\n",
    "\n",
    "# We don't need the individual g and r DFs anymore\n",
    "del ztf_g\n",
    "del ztf_r\n",
    "\n",
    "# Let's sort this before saving\n",
    "all_lcs = all_lcs.sort_values(by=['type', 'name', 'band', 'mjd'])\n",
    "\n",
    "# Let's save the combined LC file\n",
    "all_lcs.to_parquet(filtered_lightcurves, index=False)\n",
    "\n",
    "print(f'Combined, filtered lightcurves saved to {filtered_lightcurves}')"
   ]
  },
  {
   "cell_type": "code",
   "execution_count": null,
   "metadata": {},
   "outputs": [],
   "source": []
  }
 ],
 "metadata": {
  "kernelspec": {
   "display_name": "fastai",
   "language": "python",
   "name": "python3"
  },
  "language_info": {
   "codemirror_mode": {
    "name": "ipython",
    "version": 3
   },
   "file_extension": ".py",
   "mimetype": "text/x-python",
   "name": "python",
   "nbconvert_exporter": "python",
   "pygments_lexer": "ipython3",
   "version": "3.9.21"
  }
 },
 "nbformat": 4,
 "nbformat_minor": 2
}
